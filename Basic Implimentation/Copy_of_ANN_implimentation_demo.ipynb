{
  "nbformat": 4,
  "nbformat_minor": 0,
  "metadata": {
    "colab": {
      "name": "Copy of ANN_implimentation_demo.ipynb",
      "provenance": [],
      "collapsed_sections": [],
      "machine_shape": "hm"
    },
    "kernelspec": {
      "name": "python3",
      "display_name": "Python 3"
    },
    "language_info": {
      "name": "python"
    },
    "accelerator": "GPU"
  },
  "cells": [
    {
      "cell_type": "code",
      "metadata": {
        "id": "IFqRldYw4eaf"
      },
      "source": [
        "import tensorflow as tf"
      ],
      "execution_count": null,
      "outputs": []
    },
    {
      "cell_type": "code",
      "metadata": {
        "colab": {
          "base_uri": "https://localhost:8080/",
          "height": 35
        },
        "id": "FUeSueKj6Omq",
        "outputId": "cc680b26-cc5e-4d28-e4bc-1dc2a61918aa"
      },
      "source": [
        "tf.__version__"
      ],
      "execution_count": null,
      "outputs": [
        {
          "output_type": "execute_result",
          "data": {
            "text/plain": [
              "'2.8.0'"
            ],
            "application/vnd.google.colaboratory.intrinsic+json": {
              "type": "string"
            }
          },
          "metadata": {},
          "execution_count": 2
        }
      ]
    },
    {
      "cell_type": "code",
      "metadata": {
        "colab": {
          "base_uri": "https://localhost:8080/",
          "height": 35
        },
        "id": "eM-8kDl26RV4",
        "outputId": "779f0fb8-d29d-45b5-cfbc-49400989161c"
      },
      "source": [
        "tf.keras.__version__"
      ],
      "execution_count": null,
      "outputs": [
        {
          "output_type": "execute_result",
          "data": {
            "text/plain": [
              "'2.8.0'"
            ],
            "application/vnd.google.colaboratory.intrinsic+json": {
              "type": "string"
            }
          },
          "metadata": {},
          "execution_count": 3
        }
      ]
    },
    {
      "cell_type": "markdown",
      "metadata": {
        "id": "zXD8Tphd6frS"
      },
      "source": [
        "Keras is a High level API for tensorflow"
      ]
    },
    {
      "cell_type": "code",
      "metadata": {
        "colab": {
          "base_uri": "https://localhost:8080/"
        },
        "id": "ArZNES426WDP",
        "outputId": "ec34e9ed-5f94-484b-a158-06e2b410a572"
      },
      "source": [
        "tf.config.list_physical_devices(\"GPU\")"
      ],
      "execution_count": null,
      "outputs": [
        {
          "output_type": "execute_result",
          "data": {
            "text/plain": [
              "[PhysicalDevice(name='/physical_device:GPU:0', device_type='GPU')]"
            ]
          },
          "metadata": {},
          "execution_count": 4
        }
      ]
    },
    {
      "cell_type": "code",
      "metadata": {
        "colab": {
          "base_uri": "https://localhost:8080/"
        },
        "id": "paNqwALf7khh",
        "outputId": "8bc5e05b-25ca-42b2-b360-402900556840"
      },
      "source": [
        "tf.config.list_physical_devices(\"CPU\")"
      ],
      "execution_count": null,
      "outputs": [
        {
          "output_type": "execute_result",
          "data": {
            "text/plain": [
              "[PhysicalDevice(name='/physical_device:CPU:0', device_type='CPU')]"
            ]
          },
          "metadata": {},
          "execution_count": 5
        }
      ]
    },
    {
      "cell_type": "code",
      "metadata": {
        "id": "g-SOoFGF7oWe"
      },
      "source": [
        "import numpy as np\n",
        "import matplotlib.pyplot as plt\n",
        "import pandas as pd\n",
        "import seaborn as sns"
      ],
      "execution_count": null,
      "outputs": []
    },
    {
      "cell_type": "code",
      "metadata": {
        "id": "ogEwUW398aQ2"
      },
      "source": [
        "mnist = tf.keras.datasets.mnist"
      ],
      "execution_count": null,
      "outputs": []
    },
    {
      "cell_type": "code",
      "metadata": {
        "id": "l3o6kBn38hfc",
        "outputId": "daf1a791-1459-4196-bbe9-4cb77157d654",
        "colab": {
          "base_uri": "https://localhost:8080/"
        }
      },
      "source": [
        "(X_train_full, y_train_full),(X_test, y_test) = mnist.load_data()"
      ],
      "execution_count": null,
      "outputs": [
        {
          "output_type": "stream",
          "name": "stdout",
          "text": [
            "Downloading data from https://storage.googleapis.com/tensorflow/tf-keras-datasets/mnist.npz\n",
            "11493376/11490434 [==============================] - 0s 0us/step\n",
            "11501568/11490434 [==============================] - 0s 0us/step\n"
          ]
        }
      ]
    },
    {
      "cell_type": "code",
      "metadata": {
        "colab": {
          "base_uri": "https://localhost:8080/"
        },
        "id": "PhhzLa6V8llm",
        "outputId": "e16c14c6-7b1e-44f2-94c1-8cf35ae2d96b"
      },
      "source": [
        "X_train_full.shape"
      ],
      "execution_count": null,
      "outputs": [
        {
          "output_type": "execute_result",
          "data": {
            "text/plain": [
              "(60000, 28, 28)"
            ]
          },
          "metadata": {},
          "execution_count": 9
        }
      ]
    },
    {
      "cell_type": "code",
      "metadata": {
        "colab": {
          "base_uri": "https://localhost:8080/"
        },
        "id": "ARU4EhO2_tf5",
        "outputId": "5d81f748-b706-4ed2-c5cc-12ab4517e5e8"
      },
      "source": [
        "X_test.shape"
      ],
      "execution_count": null,
      "outputs": [
        {
          "output_type": "execute_result",
          "data": {
            "text/plain": [
              "(10000, 28, 28)"
            ]
          },
          "metadata": {},
          "execution_count": 10
        }
      ]
    },
    {
      "cell_type": "code",
      "metadata": {
        "colab": {
          "base_uri": "https://localhost:8080/"
        },
        "id": "1p13S0il9Sjo",
        "outputId": "931c05c1-5eca-42d6-868f-ee1a1705182b"
      },
      "source": [
        "X_train_full[0].shape"
      ],
      "execution_count": null,
      "outputs": [
        {
          "output_type": "execute_result",
          "data": {
            "text/plain": [
              "(28, 28)"
            ]
          },
          "metadata": {},
          "execution_count": 11
        }
      ]
    },
    {
      "cell_type": "code",
      "metadata": {
        "colab": {
          "base_uri": "https://localhost:8080/",
          "height": 248
        },
        "id": "wJ36aw0G9ddp",
        "outputId": "90827188-a400-4ccb-fc3d-33991177a063"
      },
      "source": [
        "img = X_train_full[0]\n",
        "\n",
        "plt.imshow(img, cmap=\"binary\")\n",
        "plt.axis(\"off\")\n",
        "plt.show()"
      ],
      "execution_count": null,
      "outputs": [
        {
          "output_type": "display_data",
          "data": {
            "text/plain": [
              "<Figure size 432x288 with 1 Axes>"
            ],
            "image/png": "[encoded data removed]"
          },
          "metadata": {
            "needs_background": "light"
          }
        }
      ]
    },
    {
      "cell_type": "code",
      "metadata": {
        "colab": {
          "base_uri": "https://localhost:8080/"
        },
        "id": "zCbYhxBt87bf",
        "outputId": "4edd6fb6-764b-4d24-885f-8a6349a6a32f"
      },
      "source": [
        "y_train_full.shape"
      ],
      "execution_count": null,
      "outputs": [
        {
          "output_type": "execute_result",
          "data": {
            "text/plain": [
              "(60000,)"
            ]
          },
          "metadata": {},
          "execution_count": 13
        }
      ]
    },
    {
      "cell_type": "code",
      "metadata": {
        "colab": {
          "base_uri": "https://localhost:8080/"
        },
        "id": "N48KtFYl9AG9",
        "outputId": "27a919a5-cfef-40b1-cbb8-457fc1eabd64"
      },
      "source": [
        "y_train_full[0]"
      ],
      "execution_count": null,
      "outputs": [
        {
          "output_type": "execute_result",
          "data": {
            "text/plain": [
              "5"
            ]
          },
          "metadata": {},
          "execution_count": 14
        }
      ]
    },
    {
      "cell_type": "code",
      "metadata": {
        "colab": {
          "base_uri": "https://localhost:8080/"
        },
        "id": "sL-8mvhU-TqA",
        "outputId": "881bc5f1-0385-4dc0-e1bc-e42204079a00"
      },
      "source": [
        "img.max(), img.min()"
      ],
      "execution_count": null,
      "outputs": [
        {
          "output_type": "execute_result",
          "data": {
            "text/plain": [
              "(255, 0)"
            ]
          },
          "metadata": {},
          "execution_count": 15
        }
      ]
    },
    {
      "cell_type": "code",
      "metadata": {
        "colab": {
          "base_uri": "https://localhost:8080/",
          "height": 1000
        },
        "id": "CVI0uXyE9Zwz",
        "outputId": "1b4ac16d-88e9-463d-b8fa-47a51c13f0dc"
      },
      "source": [
        "plt.figure(figsize=(20,20))\n",
        "sns.heatmap(img/255, annot=True, cmap=\"binary\")"
      ],
      "execution_count": null,
      "outputs": [
        {
          "output_type": "execute_result",
          "data": {
            "text/plain": [
              "<matplotlib.axes._subplots.AxesSubplot at 0x7f06e30de850>"
            ]
          },
          "metadata": {},
          "execution_count": 16
        },
        {
          "output_type": "display_data",
          "data": {
            "text/plain": [
              "<Figure size 1440x1440 with 2 Axes>"
            ],
            "image/png": "[encoded data removed]"
          },
          "metadata": {
            "needs_background": "light"
          }
        }
      ]
    },
    {
      "cell_type": "code",
      "metadata": {
        "id": "BVoytyHj-DT8"
      },
      "source": [
        "X_valid, X_train = X_train_full[:5000] / 255., X_train_full[5000:] / 255.\n",
        "y_valid, y_train = y_train_full[:5000], y_train_full[5000:]\n",
        "\n",
        "\n",
        "X_test = X_test / 255."
      ],
      "execution_count": null,
      "outputs": []
    },
    {
      "cell_type": "code",
      "metadata": {
        "id": "ZZ89aGaSA7fr"
      },
      "source": [
        "LAYERS = [\n",
        "          tf.keras.layers.Flatten(input_shape=[28,28], name=\"inputLayer\"),\n",
        "          tf.keras.layers.Dense(300, activation=\"relu\", name=\"hiddenLayer1\"),\n",
        "          tf.keras.layers.Dense(100, activation=\"relu\", name=\"hiddenLayer2\"),\n",
        "          tf.keras.layers.Dense(10, activation=\"softmax\", name=\"outputLayer\")\n",
        "]"
      ],
      "execution_count": null,
      "outputs": []
    },
    {
      "cell_type": "code",
      "metadata": {
        "id": "ZVLLr8CSED_H"
      },
      "source": [
        "model_clf = tf.keras.models.Sequential(LAYERS)"
      ],
      "execution_count": null,
      "outputs": []
    },
    {
      "cell_type": "code",
      "metadata": {
        "colab": {
          "base_uri": "https://localhost:8080/"
        },
        "id": "08LC09MtEiOt",
        "outputId": "d3d59324-938a-49f0-f55e-79b6fd9c38ec"
      },
      "source": [
        "model_clf.layers"
      ],
      "execution_count": null,
      "outputs": [
        {
          "output_type": "execute_result",
          "data": {
            "text/plain": [
              "[<keras.layers.core.flatten.Flatten at 0x7f06e0e091d0>,\n",
              " <keras.layers.core.dense.Dense at 0x7f06e0785a50>,\n",
              " <keras.layers.core.dense.Dense at 0x7f06e2beed90>,\n",
              " <keras.layers.core.dense.Dense at 0x7f06e0840350>]"
            ]
          },
          "metadata": {},
          "execution_count": 20
        }
      ]
    },
    {
      "cell_type": "code",
      "metadata": {
        "colab": {
          "base_uri": "https://localhost:8080/"
        },
        "id": "AgkTeR5oEnUc",
        "outputId": "6fa59d0f-f89b-43ad-e06c-2ba9fc39875f"
      },
      "source": [
        "model_clf.summary()"
      ],
      "execution_count": null,
      "outputs": [
        {
          "output_type": "stream",
          "name": "stdout",
          "text": [
            "Model: \"sequential\"\n",
            "_________________________________________________________________\n",
            " Layer (type)                Output Shape              Param #   \n",
            "=================================================================\n",
            " inputLayer (Flatten)        (None, 784)               0         \n",
            "                                                                 \n",
            " hiddenLayer1 (Dense)        (None, 300)               235500    \n",
            "                                                                 \n",
            " hiddenLayer2 (Dense)        (None, 100)               30100     \n",
            "                                                                 \n",
            " outputLayer (Dense)         (None, 10)                1010      \n",
            "                                                                 \n",
            "=================================================================\n",
            "Total params: 266,610\n",
            "Trainable params: 266,610\n",
            "Non-trainable params: 0\n",
            "_________________________________________________________________\n"
          ]
        }
      ]
    },
    {
      "cell_type": "code",
      "metadata": {
        "colab": {
          "base_uri": "https://localhost:8080/"
        },
        "id": "u7YKecQ2Etak",
        "outputId": "ea13e843-7faf-4f47-90df-727848d96b10"
      },
      "source": [
        "# firstlayer * secondlayer + bias\n",
        "\n",
        "784*300 + 300, 300*100 + 100, 100*10 + 10"
      ],
      "execution_count": null,
      "outputs": [
        {
          "output_type": "execute_result",
          "data": {
            "text/plain": [
              "(235500, 30100, 1010)"
            ]
          },
          "metadata": {},
          "execution_count": 22
        }
      ]
    },
    {
      "cell_type": "code",
      "metadata": {
        "colab": {
          "base_uri": "https://localhost:8080/"
        },
        "id": "7UtqFlnfFTdc",
        "outputId": "afcf9cf8-4518-4095-c25d-7591f61142cf"
      },
      "source": [
        "np.sum((235500, 30100, 1010))"
      ],
      "execution_count": null,
      "outputs": [
        {
          "output_type": "execute_result",
          "data": {
            "text/plain": [
              "266610"
            ]
          },
          "metadata": {},
          "execution_count": 23
        }
      ]
    },
    {
      "cell_type": "code",
      "metadata": {
        "colab": {
          "base_uri": "https://localhost:8080/",
          "height": 35
        },
        "id": "OCPqWGt1FtQs",
        "outputId": "3133f8a4-a19d-4284-e53d-d40a5323d2b2"
      },
      "source": [
        "model_clf.layers[1].name"
      ],
      "execution_count": null,
      "outputs": [
        {
          "output_type": "execute_result",
          "data": {
            "text/plain": [
              "'hiddenLayer1'"
            ],
            "application/vnd.google.colaboratory.intrinsic+json": {
              "type": "string"
            }
          },
          "metadata": {},
          "execution_count": 24
        }
      ]
    },
    {
      "cell_type": "code",
      "metadata": {
        "id": "UBiJf2ojHSvD"
      },
      "source": [
        "weights, biases = model_clf.layers[1].get_weights()"
      ],
      "execution_count": null,
      "outputs": []
    },
    {
      "cell_type": "code",
      "metadata": {
        "colab": {
          "base_uri": "https://localhost:8080/"
        },
        "id": "R17LGXc6HX75",
        "outputId": "fefd0232-88c6-46cd-c134-5d3725dbf708"
      },
      "source": [
        "weights.shape"
      ],
      "execution_count": null,
      "outputs": [
        {
          "output_type": "execute_result",
          "data": {
            "text/plain": [
              "(784, 300)"
            ]
          },
          "metadata": {},
          "execution_count": 26
        }
      ]
    },
    {
      "cell_type": "code",
      "metadata": {
        "colab": {
          "base_uri": "https://localhost:8080/"
        },
        "id": "ziL5Q-qXHimT",
        "outputId": "5e96bf3c-2f5d-4194-e505-d0c4bdff3fb6"
      },
      "source": [
        "biases.shape"
      ],
      "execution_count": null,
      "outputs": [
        {
          "output_type": "execute_result",
          "data": {
            "text/plain": [
              "(300,)"
            ]
          },
          "metadata": {},
          "execution_count": 27
        }
      ]
    },
    {
      "cell_type": "code",
      "metadata": {
        "id": "HhXoyA0BHkvi"
      },
      "source": [
        "LOSS_FUNCTION = \"sparse_categorical_crossentropy\"\n",
        "OPTIMIZER = \"SGD\"\n",
        "METRICS = [\"accuracy\"]\n",
        "\n",
        "\n",
        "model_clf.compile(loss=LOSS_FUNCTION, optimizer=OPTIMIZER, metrics=METRICS)"
      ],
      "execution_count": null,
      "outputs": []
    },
    {
      "cell_type": "markdown",
      "metadata": {
        "id": "kRdKbue1I5Eo"
      },
      "source": [
        "# By default batch_size = 32\n",
        "# 55000/32"
      ]
    },
    {
      "cell_type": "code",
      "metadata": {
        "colab": {
          "base_uri": "https://localhost:8080/"
        },
        "id": "q0rnUQmtIxBv",
        "outputId": "2147d306-5b5b-40b4-e162-aef88296d2cc"
      },
      "source": [
        "55000/32 ,55000/16"
      ],
      "execution_count": null,
      "outputs": [
        {
          "output_type": "execute_result",
          "data": {
            "text/plain": [
              "(1718.75, 3437.5)"
            ]
          },
          "metadata": {},
          "execution_count": 29
        }
      ]
    },
    {
      "cell_type": "code",
      "metadata": {
        "colab": {
          "base_uri": "https://localhost:8080/"
        },
        "id": "_CLbqG9lIHcL",
        "outputId": "904aafdc-08bf-47b4-cfe3-2d95f717d785"
      },
      "source": [
        "EPOCHS = 30\n",
        "VALIDATION = (X_valid, y_valid)\n",
        "\n",
        "history = model_clf.fit(X_train, y_train, epochs=EPOCHS, validation_data=VALIDATION)"
      ],
      "execution_count": null,
      "outputs": [
        {
          "output_type": "stream",
          "name": "stdout",
          "text": [
            "Epoch 1/30\n",
            "1719/1719 [==============================] - 8s 3ms/step - loss: 0.6126 - accuracy: 0.8441 - val_loss: 0.3087 - val_accuracy: 0.9162\n",
            "Epoch 2/30\n",
            "1719/1719 [==============================] - 5s 3ms/step - loss: 0.2907 - accuracy: 0.9178 - val_loss: 0.2398 - val_accuracy: 0.9316\n",
            "Epoch 3/30\n",
            "1719/1719 [==============================] - 5s 3ms/step - loss: 0.2388 - accuracy: 0.9320 - val_loss: 0.2033 - val_accuracy: 0.9418\n",
            "Epoch 4/30\n",
            "1719/1719 [==============================] - 5s 3ms/step - loss: 0.2043 - accuracy: 0.9419 - val_loss: 0.1781 - val_accuracy: 0.9492\n",
            "Epoch 5/30\n",
            "1719/1719 [==============================] - 5s 3ms/step - loss: 0.1779 - accuracy: 0.9492 - val_loss: 0.1604 - val_accuracy: 0.9542\n",
            "Epoch 6/30\n",
            "1719/1719 [==============================] - 5s 3ms/step - loss: 0.1577 - accuracy: 0.9545 - val_loss: 0.1451 - val_accuracy: 0.9602\n",
            "Epoch 7/30\n",
            "1719/1719 [==============================] - 5s 3ms/step - loss: 0.1406 - accuracy: 0.9599 - val_loss: 0.1341 - val_accuracy: 0.9624\n",
            "Epoch 8/30\n",
            "1719/1719 [==============================] - 5s 3ms/step - loss: 0.1276 - accuracy: 0.9637 - val_loss: 0.1239 - val_accuracy: 0.9646\n",
            "Epoch 9/30\n",
            "1719/1719 [==============================] - 5s 3ms/step - loss: 0.1163 - accuracy: 0.9675 - val_loss: 0.1154 - val_accuracy: 0.9674\n",
            "Epoch 10/30\n",
            "1719/1719 [==============================] - 5s 3ms/step - loss: 0.1064 - accuracy: 0.9690 - val_loss: 0.1097 - val_accuracy: 0.9698\n",
            "Epoch 11/30\n",
            "1719/1719 [==============================] - 5s 3ms/step - loss: 0.0979 - accuracy: 0.9720 - val_loss: 0.1022 - val_accuracy: 0.9708\n",
            "Epoch 12/30\n",
            "1719/1719 [==============================] - 5s 3ms/step - loss: 0.0904 - accuracy: 0.9744 - val_loss: 0.0970 - val_accuracy: 0.9730\n",
            "Epoch 13/30\n",
            "1719/1719 [==============================] - 5s 3ms/step - loss: 0.0839 - accuracy: 0.9764 - val_loss: 0.0937 - val_accuracy: 0.9732\n",
            "Epoch 14/30\n",
            "1719/1719 [==============================] - 5s 3ms/step - loss: 0.0778 - accuracy: 0.9778 - val_loss: 0.0914 - val_accuracy: 0.9742\n",
            "Epoch 15/30\n",
            "1719/1719 [==============================] - 5s 3ms/step - loss: 0.0725 - accuracy: 0.9791 - val_loss: 0.0880 - val_accuracy: 0.9744\n",
            "Epoch 16/30\n",
            "1719/1719 [==============================] - 5s 3ms/step - loss: 0.0679 - accuracy: 0.9811 - val_loss: 0.0860 - val_accuracy: 0.9758\n",
            "Epoch 17/30\n",
            "1719/1719 [==============================] - 5s 3ms/step - loss: 0.0634 - accuracy: 0.9828 - val_loss: 0.0836 - val_accuracy: 0.9752\n",
            "Epoch 18/30\n",
            "1719/1719 [==============================] - 5s 3ms/step - loss: 0.0592 - accuracy: 0.9839 - val_loss: 0.0815 - val_accuracy: 0.9768\n",
            "Epoch 19/30\n",
            "1719/1719 [==============================] - 5s 3ms/step - loss: 0.0556 - accuracy: 0.9848 - val_loss: 0.0801 - val_accuracy: 0.9766\n",
            "Epoch 20/30\n",
            "1719/1719 [==============================] - 5s 3ms/step - loss: 0.0521 - accuracy: 0.9861 - val_loss: 0.0779 - val_accuracy: 0.9776\n",
            "Epoch 21/30\n",
            "1719/1719 [==============================] - 5s 3ms/step - loss: 0.0491 - accuracy: 0.9873 - val_loss: 0.0766 - val_accuracy: 0.9762\n",
            "Epoch 22/30\n",
            "1719/1719 [==============================] - 5s 3ms/step - loss: 0.0460 - accuracy: 0.9878 - val_loss: 0.0745 - val_accuracy: 0.9778\n",
            "Epoch 23/30\n",
            "1719/1719 [==============================] - 5s 3ms/step - loss: 0.0430 - accuracy: 0.9887 - val_loss: 0.0748 - val_accuracy: 0.9780\n",
            "Epoch 24/30\n",
            "1719/1719 [==============================] - 5s 3ms/step - loss: 0.0405 - accuracy: 0.9894 - val_loss: 0.0734 - val_accuracy: 0.9770\n",
            "Epoch 25/30\n",
            "1719/1719 [==============================] - 5s 3ms/step - loss: 0.0385 - accuracy: 0.9903 - val_loss: 0.0721 - val_accuracy: 0.9800\n",
            "Epoch 26/30\n",
            "1719/1719 [==============================] - 5s 3ms/step - loss: 0.0358 - accuracy: 0.9911 - val_loss: 0.0723 - val_accuracy: 0.9788\n",
            "Epoch 27/30\n",
            "1719/1719 [==============================] - 5s 3ms/step - loss: 0.0342 - accuracy: 0.9917 - val_loss: 0.0730 - val_accuracy: 0.9782\n",
            "Epoch 28/30\n",
            "1719/1719 [==============================] - 5s 3ms/step - loss: 0.0321 - accuracy: 0.9921 - val_loss: 0.0707 - val_accuracy: 0.9782\n",
            "Epoch 29/30\n",
            "1719/1719 [==============================] - 5s 3ms/step - loss: 0.0303 - accuracy: 0.9926 - val_loss: 0.0705 - val_accuracy: 0.9794\n",
            "Epoch 30/30\n",
            "1719/1719 [==============================] - 5s 3ms/step - loss: 0.0285 - accuracy: 0.9936 - val_loss: 0.0692 - val_accuracy: 0.9796\n"
          ]
        }
      ]
    },
    {
      "cell_type": "code",
      "metadata": {
        "colab": {
          "base_uri": "https://localhost:8080/"
        },
        "id": "CxhVgB-5LRYq",
        "outputId": "7084de3c-df3c-4714-a491-96891f2a04fb"
      },
      "source": [
        "history.params"
      ],
      "execution_count": null,
      "outputs": [
        {
          "output_type": "execute_result",
          "data": {
            "text/plain": [
              "{'epochs': 30, 'steps': 1719, 'verbose': 1}"
            ]
          },
          "metadata": {},
          "execution_count": 31
        }
      ]
    },
    {
      "cell_type": "code",
      "metadata": {
        "colab": {
          "base_uri": "https://localhost:8080/"
        },
        "id": "eMea8cOYPOqc",
        "outputId": "ebd6f72d-9425-41b3-8fa2-f2599f7bbee1"
      },
      "source": [
        "type(history.history)"
      ],
      "execution_count": null,
      "outputs": [
        {
          "output_type": "execute_result",
          "data": {
            "text/plain": [
              "dict"
            ]
          },
          "metadata": {},
          "execution_count": 32
        }
      ]
    },
    {
      "cell_type": "code",
      "metadata": {
        "colab": {
          "base_uri": "https://localhost:8080/"
        },
        "id": "nuCkW4obPU3v",
        "outputId": "e398af5e-43e9-499f-978a-165023b13bb3"
      },
      "source": [
        "history.history.keys()"
      ],
      "execution_count": null,
      "outputs": [
        {
          "output_type": "execute_result",
          "data": {
            "text/plain": [
              "dict_keys(['loss', 'accuracy', 'val_loss', 'val_accuracy'])"
            ]
          },
          "metadata": {},
          "execution_count": 33
        }
      ]
    },
    {
      "cell_type": "code",
      "metadata": {
        "colab": {
          "base_uri": "https://localhost:8080/",
          "height": 990
        },
        "id": "DUyQj0OvLXk5",
        "outputId": "21f36561-52fa-4114-c0dd-a2e94ab8df64"
      },
      "source": [
        "pd.DataFrame(history.history)"
      ],
      "execution_count": null,
      "outputs": [
        {
          "output_type": "execute_result",
          "data": {
            "text/plain": [
              "        loss  accuracy  val_loss  val_accuracy\n",
              "0   0.612621  0.844055  0.308711        0.9162\n",
              "1   0.290701  0.917818  0.239787        0.9316\n",
              "2   0.238763  0.932018  0.203292        0.9418\n",
              "3   0.204273  0.941909  0.178091        0.9492\n",
              "4   0.177852  0.949200  0.160420        0.9542\n",
              "5   0.157675  0.954509  0.145147        0.9602\n",
              "6   0.140553  0.959927  0.134105        0.9624\n",
              "7   0.127631  0.963709  0.123927        0.9646\n",
              "8   0.116340  0.967473  0.115425        0.9674\n",
              "9   0.106371  0.969036  0.109741        0.9698\n",
              "10  0.097888  0.971982  0.102191        0.9708\n",
              "11  0.090415  0.974382  0.096984        0.9730\n",
              "12  0.083860  0.976400  0.093687        0.9732\n",
              "13  0.077848  0.977764  0.091427        0.9742\n",
              "14  0.072481  0.979091  0.088042        0.9744\n",
              "15  0.067924  0.981145  0.086017        0.9758\n",
              "16  0.063384  0.982800  0.083559        0.9752\n",
              "17  0.059177  0.983945  0.081522        0.9768\n",
              "18  0.055645  0.984800  0.080107        0.9766\n",
              "19  0.052138  0.986127  0.077877        0.9776\n",
              "20  0.049097  0.987309  0.076582        0.9762\n",
              "21  0.045964  0.987836  0.074537        0.9778\n",
              "22  0.042997  0.988745  0.074768        0.9780\n",
              "23  0.040537  0.989400  0.073418        0.9770\n",
              "24  0.038452  0.990255  0.072100        0.9800\n",
              "25  0.035840  0.991127  0.072334        0.9788\n",
              "26  0.034182  0.991727  0.073000        0.9782\n",
              "27  0.032105  0.992073  0.070674        0.9782\n",
              "28  0.030315  0.992582  0.070541        0.9794\n",
              "29  0.028470  0.993618  0.069219        0.9796"
            ],
            "text/html": [
              "<div>\n",
              "<style scoped>\n",
              "    .dataframe tbody tr th:only-of-type {\n",
              "        vertical-align: middle;\n",
              "    }\n",
              "\n",
              "    .dataframe tbody tr th {\n",
              "        vertical-align: top;\n",
              "    }\n",
              "\n",
              "    .dataframe thead th {\n",
              "        text-align: right;\n",
              "    }\n",
              "</style>\n",
              "<table border=\"1\" class=\"dataframe\">\n",
              "  <thead>\n",
              "    <tr style=\"text-align: right;\">\n",
              "      <th></th>\n",
              "      <th>loss</th>\n",
              "      <th>accuracy</th>\n",
              "      <th>val_loss</th>\n",
              "      <th>val_accuracy</th>\n",
              "    </tr>\n",
              "  </thead>\n",
              "  <tbody>\n",
              "    <tr>\n",
              "      <th>0</th>\n",
              "      <td>0.612621</td>\n",
              "      <td>0.844055</td>\n",
              "      <td>0.308711</td>\n",
              "      <td>0.9162</td>\n",
              "    </tr>\n",
              "    <tr>\n",
              "      <th>1</th>\n",
              "      <td>0.290701</td>\n",
              "      <td>0.917818</td>\n",
              "      <td>0.239787</td>\n",
              "      <td>0.9316</td>\n",
              "    </tr>\n",
              "    <tr>\n",
              "      <th>2</th>\n",
              "      <td>0.238763</td>\n",
              "      <td>0.932018</td>\n",
              "      <td>0.203292</td>\n",
              "      <td>0.9418</td>\n",
              "    </tr>\n",
              "    <tr>\n",
              "      <th>3</th>\n",
              "      <td>0.204273</td>\n",
              "      <td>0.941909</td>\n",
              "      <td>0.178091</td>\n",
              "      <td>0.9492</td>\n",
              "    </tr>\n",
              "    <tr>\n",
              "      <th>4</th>\n",
              "      <td>0.177852</td>\n",
              "      <td>0.949200</td>\n",
              "      <td>0.160420</td>\n",
              "      <td>0.9542</td>\n",
              "    </tr>\n",
              "    <tr>\n",
              "      <th>5</th>\n",
              "      <td>0.157675</td>\n",
              "      <td>0.954509</td>\n",
              "      <td>0.145147</td>\n",
              "      <td>0.9602</td>\n",
              "    </tr>\n",
              "    <tr>\n",
              "      <th>6</th>\n",
              "      <td>0.140553</td>\n",
              "      <td>0.959927</td>\n",
              "      <td>0.134105</td>\n",
              "      <td>0.9624</td>\n",
              "    </tr>\n",
              "    <tr>\n",
              "      <th>7</th>\n",
              "      <td>0.127631</td>\n",
              "      <td>0.963709</td>\n",
              "      <td>0.123927</td>\n",
              "      <td>0.9646</td>\n",
              "    </tr>\n",
              "    <tr>\n",
              "      <th>8</th>\n",
              "      <td>0.116340</td>\n",
              "      <td>0.967473</td>\n",
              "      <td>0.115425</td>\n",
              "      <td>0.9674</td>\n",
              "    </tr>\n",
              "    <tr>\n",
              "      <th>9</th>\n",
              "      <td>0.106371</td>\n",
              "      <td>0.969036</td>\n",
              "      <td>0.109741</td>\n",
              "      <td>0.9698</td>\n",
              "    </tr>\n",
              "    <tr>\n",
              "      <th>10</th>\n",
              "      <td>0.097888</td>\n",
              "      <td>0.971982</td>\n",
              "      <td>0.102191</td>\n",
              "      <td>0.9708</td>\n",
              "    </tr>\n",
              "    <tr>\n",
              "      <th>11</th>\n",
              "      <td>0.090415</td>\n",
              "      <td>0.974382</td>\n",
              "      <td>0.096984</td>\n",
              "      <td>0.9730</td>\n",
              "    </tr>\n",
              "    <tr>\n",
              "      <th>12</th>\n",
              "      <td>0.083860</td>\n",
              "      <td>0.976400</td>\n",
              "      <td>0.093687</td>\n",
              "      <td>0.9732</td>\n",
              "    </tr>\n",
              "    <tr>\n",
              "      <th>13</th>\n",
              "      <td>0.077848</td>\n",
              "      <td>0.977764</td>\n",
              "      <td>0.091427</td>\n",
              "      <td>0.9742</td>\n",
              "    </tr>\n",
              "    <tr>\n",
              "      <th>14</th>\n",
              "      <td>0.072481</td>\n",
              "      <td>0.979091</td>\n",
              "      <td>0.088042</td>\n",
              "      <td>0.9744</td>\n",
              "    </tr>\n",
              "    <tr>\n",
              "      <th>15</th>\n",
              "      <td>0.067924</td>\n",
              "      <td>0.981145</td>\n",
              "      <td>0.086017</td>\n",
              "      <td>0.9758</td>\n",
              "    </tr>\n",
              "    <tr>\n",
              "      <th>16</th>\n",
              "      <td>0.063384</td>\n",
              "      <td>0.982800</td>\n",
              "      <td>0.083559</td>\n",
              "      <td>0.9752</td>\n",
              "    </tr>\n",
              "    <tr>\n",
              "      <th>17</th>\n",
              "      <td>0.059177</td>\n",
              "      <td>0.983945</td>\n",
              "      <td>0.081522</td>\n",
              "      <td>0.9768</td>\n",
              "    </tr>\n",
              "    <tr>\n",
              "      <th>18</th>\n",
              "      <td>0.055645</td>\n",
              "      <td>0.984800</td>\n",
              "      <td>0.080107</td>\n",
              "      <td>0.9766</td>\n",
              "    </tr>\n",
              "    <tr>\n",
              "      <th>19</th>\n",
              "      <td>0.052138</td>\n",
              "      <td>0.986127</td>\n",
              "      <td>0.077877</td>\n",
              "      <td>0.9776</td>\n",
              "    </tr>\n",
              "    <tr>\n",
              "      <th>20</th>\n",
              "      <td>0.049097</td>\n",
              "      <td>0.987309</td>\n",
              "      <td>0.076582</td>\n",
              "      <td>0.9762</td>\n",
              "    </tr>\n",
              "    <tr>\n",
              "      <th>21</th>\n",
              "      <td>0.045964</td>\n",
              "      <td>0.987836</td>\n",
              "      <td>0.074537</td>\n",
              "      <td>0.9778</td>\n",
              "    </tr>\n",
              "    <tr>\n",
              "      <th>22</th>\n",
              "      <td>0.042997</td>\n",
              "      <td>0.988745</td>\n",
              "      <td>0.074768</td>\n",
              "      <td>0.9780</td>\n",
              "    </tr>\n",
              "    <tr>\n",
              "      <th>23</th>\n",
              "      <td>0.040537</td>\n",
              "      <td>0.989400</td>\n",
              "      <td>0.073418</td>\n",
              "      <td>0.9770</td>\n",
              "    </tr>\n",
              "    <tr>\n",
              "      <th>24</th>\n",
              "      <td>0.038452</td>\n",
              "      <td>0.990255</td>\n",
              "      <td>0.072100</td>\n",
              "      <td>0.9800</td>\n",
              "    </tr>\n",
              "    <tr>\n",
              "      <th>25</th>\n",
              "      <td>0.035840</td>\n",
              "      <td>0.991127</td>\n",
              "      <td>0.072334</td>\n",
              "      <td>0.9788</td>\n",
              "    </tr>\n",
              "    <tr>\n",
              "      <th>26</th>\n",
              "      <td>0.034182</td>\n",
              "      <td>0.991727</td>\n",
              "      <td>0.073000</td>\n",
              "      <td>0.9782</td>\n",
              "    </tr>\n",
              "    <tr>\n",
              "      <th>27</th>\n",
              "      <td>0.032105</td>\n",
              "      <td>0.992073</td>\n",
              "      <td>0.070674</td>\n",
              "      <td>0.9782</td>\n",
              "    </tr>\n",
              "    <tr>\n",
              "      <th>28</th>\n",
              "      <td>0.030315</td>\n",
              "      <td>0.992582</td>\n",
              "      <td>0.070541</td>\n",
              "      <td>0.9794</td>\n",
              "    </tr>\n",
              "    <tr>\n",
              "      <th>29</th>\n",
              "      <td>0.028470</td>\n",
              "      <td>0.993618</td>\n",
              "      <td>0.069219</td>\n",
              "      <td>0.9796</td>\n",
              "    </tr>\n",
              "  </tbody>\n",
              "</table>\n",
              "</div>"
            ]
          },
          "metadata": {},
          "execution_count": 34
        }
      ]
    },
    {
      "cell_type": "code",
      "metadata": {
        "colab": {
          "base_uri": "https://localhost:8080/",
          "height": 428
        },
        "id": "JMFSzwW7Lfc_",
        "outputId": "a1f650f5-e5a5-4e1d-a32d-a72d83d57912"
      },
      "source": [
        "pd.DataFrame(history.history).plot(figsize=(10,7))\n",
        "plt.grid(True)\n",
        "plt.show()"
      ],
      "execution_count": null,
      "outputs": [
        {
          "output_type": "display_data",
          "data": {
            "text/plain": [
              "<Figure size 720x504 with 1 Axes>"
            ],
            "image/png": "[encoded data removed]"
          },
          "metadata": {
            "needs_background": "light"
          }
        }
      ]
    },
    {
      "cell_type": "code",
      "metadata": {
        "colab": {
          "base_uri": "https://localhost:8080/"
        },
        "id": "pXHJFGB8MFkk",
        "outputId": "41e15ea2-a57c-4edb-e922-4410aa2b2993"
      },
      "source": [
        "model_clf.evaluate(X_test, y_test)"
      ],
      "execution_count": null,
      "outputs": [
        {
          "output_type": "stream",
          "name": "stdout",
          "text": [
            "313/313 [==============================] - 1s 3ms/step - loss: 0.0691 - accuracy: 0.9785\n"
          ]
        },
        {
          "output_type": "execute_result",
          "data": {
            "text/plain": [
              "[0.0691002905368805, 0.9785000085830688]"
            ]
          },
          "metadata": {},
          "execution_count": 36
        }
      ]
    },
    {
      "cell_type": "code",
      "metadata": {
        "colab": {
          "base_uri": "https://localhost:8080/"
        },
        "id": "yzdNzTybMSH-",
        "outputId": "e70df53b-987b-4501-a997-d7cdd77a638c"
      },
      "source": [
        "10000/32"
      ],
      "execution_count": null,
      "outputs": [
        {
          "output_type": "execute_result",
          "data": {
            "text/plain": [
              "312.5"
            ]
          },
          "metadata": {},
          "execution_count": 37
        }
      ]
    },
    {
      "cell_type": "code",
      "metadata": {
        "colab": {
          "base_uri": "https://localhost:8080/"
        },
        "id": "OCK9u_qjMXXm",
        "outputId": "f3e5fe68-1d7d-4339-f0c1-daef2c6a464d"
      },
      "source": [
        "X_new = X_test[:3]\n",
        "\n",
        "y_prob = model_clf.predict(X_new)\n",
        "\n",
        "y_prob.round(3)"
      ],
      "execution_count": null,
      "outputs": [
        {
          "output_type": "execute_result",
          "data": {
            "text/plain": [
              "array([[0.   , 0.   , 0.   , 0.   , 0.   , 0.   , 0.   , 1.   , 0.   ,\n",
              "        0.   ],\n",
              "       [0.   , 0.   , 1.   , 0.   , 0.   , 0.   , 0.   , 0.   , 0.   ,\n",
              "        0.   ],\n",
              "       [0.   , 0.998, 0.   , 0.   , 0.   , 0.   , 0.   , 0.   , 0.001,\n",
              "        0.   ]], dtype=float32)"
            ]
          },
          "metadata": {},
          "execution_count": 38
        }
      ]
    },
    {
      "cell_type": "code",
      "metadata": {
        "colab": {
          "base_uri": "https://localhost:8080/"
        },
        "id": "EyKGrVdfMpM9",
        "outputId": "47a609f9-66c8-4e0c-9b45-734bab67900c"
      },
      "source": [
        "y_prob.shape"
      ],
      "execution_count": null,
      "outputs": [
        {
          "output_type": "execute_result",
          "data": {
            "text/plain": [
              "(3, 10)"
            ]
          },
          "metadata": {},
          "execution_count": 39
        }
      ]
    },
    {
      "cell_type": "code",
      "metadata": {
        "colab": {
          "base_uri": "https://localhost:8080/"
        },
        "id": "mjYBBCXmPttz",
        "outputId": "0d252ceb-0da7-476b-ba9a-c0c543ccd5de"
      },
      "source": [
        "y_prob"
      ],
      "execution_count": null,
      "outputs": [
        {
          "output_type": "execute_result",
          "data": {
            "text/plain": [
              "array([[1.0254463e-06, 5.6015153e-08, 7.0433140e-05, 1.6346409e-04,\n",
              "        2.6933979e-09, 1.0184111e-07, 1.6236956e-11, 9.9975556e-01,\n",
              "        3.4382742e-06, 5.8793080e-06],\n",
              "       [5.3548086e-07, 2.9022404e-04, 9.9965096e-01, 4.6661175e-05,\n",
              "        9.9338171e-10, 1.1662974e-06, 1.9306167e-06, 1.6399148e-11,\n",
              "        8.4354997e-06, 1.1177063e-11],\n",
              "       [1.5672765e-06, 9.9796474e-01, 2.4029476e-04, 6.7488130e-05,\n",
              "        2.1377965e-04, 3.2077456e-05, 2.2436470e-05, 4.3841026e-04,\n",
              "        1.0051843e-03, 1.4180184e-05]], dtype=float32)"
            ]
          },
          "metadata": {},
          "execution_count": 40
        }
      ]
    },
    {
      "cell_type": "code",
      "metadata": {
        "colab": {
          "base_uri": "https://localhost:8080/"
        },
        "id": "PB3mZoXxNDrN",
        "outputId": "50d7fe78-5b41-4a3d-f7ca-1ddbe7473851"
      },
      "source": [
        "Y_pred= np.argmax(y_prob, axis=-1)\n",
        "Y_pred"
      ],
      "execution_count": null,
      "outputs": [
        {
          "output_type": "execute_result",
          "data": {
            "text/plain": [
              "array([7, 2, 1])"
            ]
          },
          "metadata": {},
          "execution_count": 41
        }
      ]
    },
    {
      "cell_type": "code",
      "metadata": {
        "colab": {
          "base_uri": "https://localhost:8080/",
          "height": 810
        },
        "id": "4QcmVXV5NpjV",
        "outputId": "e1cf356b-fe76-44a2-e0ad-a41f6719fd9b"
      },
      "source": [
        "for img_array, pred, actual in zip(X_new, Y_pred, y_test[:3]):\n",
        "  plt.imshow(img_array, cmap=\"binary\")\n",
        "  plt.title(f\"predicted: {pred}, Actual: {actual}\")\n",
        "  plt.axis(\"off\")\n",
        "  plt.show()\n",
        "  print(\"---\"*20)"
      ],
      "execution_count": null,
      "outputs": [
        {
          "output_type": "display_data",
          "data": {
            "text/plain": [
              "<Figure size 432x288 with 1 Axes>"
            ],
            "image/png": "[encoded data removed]"
          },
          "metadata": {
            "needs_background": "light"
          }
        },
        {
          "output_type": "stream",
          "name": "stdout",
          "text": [
            "------------------------------------------------------------\n"
          ]
        },
        {
          "output_type": "display_data",
          "data": {
            "text/plain": [
              "<Figure size 432x288 with 1 Axes>"
            ],
            "image/png": "[encoded data removed]"
          },
          "metadata": {
            "needs_background": "light"
          }
        },
        {
          "output_type": "stream",
          "name": "stdout",
          "text": [
            "------------------------------------------------------------\n"
          ]
        },
        {
          "output_type": "display_data",
          "data": {
            "text/plain": [
              "<Figure size 432x288 with 1 Axes>"
            ],
            "image/png": "[encoded data removed]"
          },
          "metadata": {
            "needs_background": "light"
          }
        },
        {
          "output_type": "stream",
          "name": "stdout",
          "text": [
            "------------------------------------------------------------\n"
          ]
        }
      ]
    },
    {
      "cell_type": "code",
      "metadata": {
        "id": "tThYNgpYSt9R"
      },
      "source": [
        "model_clf.save(\"model.h5\")"
      ],
      "execution_count": null,
      "outputs": []
    },
    {
      "cell_type": "code",
      "metadata": {
        "colab": {
          "base_uri": "https://localhost:8080/"
        },
        "id": "mhBrnrTCOXXM",
        "outputId": "26e8b0fd-7a5a-4dab-b568-1818fcd2da0c"
      },
      "source": [
        "a = (1,2,3)\n",
        "\n",
        "b = (5,6,7)\n",
        "\n",
        "for i, j in zip(a,b):\n",
        "  print(i+j)"
      ],
      "execution_count": null,
      "outputs": [
        {
          "output_type": "stream",
          "name": "stdout",
          "text": [
            "6\n",
            "8\n",
            "10\n"
          ]
        }
      ]
    },
    {
      "cell_type": "markdown",
      "metadata": {
        "id": "A7jVmnZdSZSy"
      },
      "source": [
        "# Convert this code into modular python script -\n",
        "\n",
        "file1 = creating model\n",
        "\n",
        "file2 = getting the dataset\n",
        "\n",
        "main_file = train on the dataset and save the model"
      ]
    }
  ]
}